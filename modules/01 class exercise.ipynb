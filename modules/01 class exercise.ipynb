{
 "cells": [
  {
   "cell_type": "markdown",
   "metadata": {},
   "source": [
    "# Class exercise 1\n",
    "![](https://miro.medium.com/max/1266/1*Pb8oEA1nGIONsSJk7QSVzg.png)"
   ]
  },
  {
   "cell_type": "code",
   "execution_count": 8,
   "metadata": {},
   "outputs": [
    {
     "name": "stdout",
     "output_type": "stream",
     "text": [
      "Enter the first number: 10\n",
      "Enter the second number: 10\n",
      "Total: 100\n"
     ]
    }
   ],
   "source": [
    "#The next cell should be a code cell \n",
    "#that can take 2 numbers from a user input and multiply them printing out the result.\n",
    "first = input(\"Enter the first number: \")\n",
    "sec = input(\"Enter the second number: \")\n",
    "\n",
    "print(\"Total: \" + str(int(first) * int(sec)))"
   ]
  },
  {
   "cell_type": "code",
   "execution_count": 13,
   "metadata": {},
   "outputs": [
    {
     "name": "stdout",
     "output_type": "stream",
     "text": [
      "[1, 3, 5, 7, 9, 11, 13, 15, 17, 19]\n"
     ]
    }
   ],
   "source": [
    "#01-3\n",
    "#Use the range() function to make a list of the odd numbers from 1 to 20. \n",
    "#Hint in ipython and this notebooks you can see a functions help text by executing for example range?\n",
    "oddList = list(range(1,20,2))\n",
    "print(oddList)\n"
   ]
  },
  {
   "cell_type": "code",
   "execution_count": 29,
   "metadata": {},
   "outputs": [
    {
     "name": "stdout",
     "output_type": "stream",
     "text": [
      "2\n",
      "1000000\n",
      "500000500000\n"
     ]
    }
   ],
   "source": [
    "#2\n",
    "#Create a list with the even number values from two to one million. \n",
    "#Use min(list) and max(list) to make sure your list actually starts at two and ends at one million. \n",
    "#Also, use the sum(list) function to compute the sum of all values.\n",
    "stabilList = list(range(2, 1000001))\n",
    "print(min(stabilList))\n",
    "print(max(stabilList))\n",
    "print(sum(stabilList)+1)"
   ]
  },
  {
   "cell_type": "code",
   "execution_count": 32,
   "metadata": {},
   "outputs": [
    {
     "name": "stdout",
     "output_type": "stream",
     "text": [
      "[3, 6, 9, 12, 15, 18, 21, 24, 27, 30, 33, 36, 39, 42, 45, 48, 51, 54, 57, 60, 63, 66, 69, 72, 75, 78, 81, 84, 87, 90, 93, 96, 99, 102, 105, 108, 111, 114, 117, 120, 123, 126, 129, 132, 135, 138, 141, 144, 147, 150, 153, 156, 159, 162, 165, 168, 171, 174, 177, 180, 183, 186, 189, 192, 195, 198, 201, 204, 207, 210, 213, 216, 219, 222, 225, 228, 231, 234, 237, 240, 243, 246, 249, 252, 255, 258, 261, 264, 267, 270, 273, 276, 279, 282, 285, 288, 291, 294, 297, 300]\n"
     ]
    }
   ],
   "source": [
    "#3\n",
    "#Create a list of the multiples of 3 - going from 3 to 300. HINT: USE A LIST COMPREHENSION\n",
    "new_list = [element*3 for element in range(1,101)]\n",
    "print(new_list)"
   ]
  },
  {
   "cell_type": "code",
   "execution_count": 34,
   "metadata": {},
   "outputs": [
    {
     "name": "stdout",
     "output_type": "stream",
     "text": [
      "[1, 8, 27, 64, 125, 216, 343, 512, 729, 1000]\n"
     ]
    }
   ],
   "source": [
    "#4\n",
    "#A number raised to the third power is called a cube. For example, the cube of 2 is written as 2**3 in Python. \n",
    "#Create a list of the first 10 cubes (that is, the cube of each integer from 1 through 10).\n",
    "new_list = [element**3 for element in range(1,11)]\n",
    "print(new_list)"
   ]
  },
  {
   "cell_type": "code",
   "execution_count": 40,
   "metadata": {},
   "outputs": [
    {
     "name": "stdout",
     "output_type": "stream",
     "text": [
      "Enter a date in the form D-MMM-YY (8-MAR-85)8-MARlmaoaoaoaoaooaoaoaoaoao-85\n",
      "8-3-85\n"
     ]
    }
   ],
   "source": [
    "#01-4\n",
    "#A date of the form 8-MAR-85 includes the name of the month, which must be translated to a number.\n",
    "input_month = input(\"Enter a date in the form D-MMM-YY (8-MAR-85)\")\n",
    "month = {'JAN': 1, 'FEB': 2, \"MAR\": 3}\n",
    "\n",
    "splitted = input_month.split(\"-\")\n",
    "splitted[1] = month[splitted[1].upper()[0:3]]\n",
    "\n",
    "print(splitted[0]+ '-' + str(splitted[1])+ '-' + splitted[2])"
   ]
  },
  {
   "cell_type": "code",
   "execution_count": null,
   "metadata": {},
   "outputs": [],
   "source": []
  }
 ],
 "metadata": {
  "kernelspec": {
   "display_name": "Python 3",
   "language": "python",
   "name": "python3"
  },
  "language_info": {
   "codemirror_mode": {
    "name": "ipython",
    "version": 3
   },
   "file_extension": ".py",
   "mimetype": "text/x-python",
   "name": "python",
   "nbconvert_exporter": "python",
   "pygments_lexer": "ipython3",
   "version": "3.7.6"
  }
 },
 "nbformat": 4,
 "nbformat_minor": 4
}
