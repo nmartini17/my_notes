{
 "cells": [
  {
   "cell_type": "markdown",
   "metadata": {},
   "source": [
    "# Uge 1 Exercises\n",
    "\n",
    "**1. Create 5 list comprehensions to solve the following 5 problems:**\n",
    "\n",
    "A. Iterate a list of names to return a list of the names starting with H\n",
    "\n",
    "B. In one line create a list of the numbers 1-100 to the power of 3\n",
    "\n",
    "C. Iterate a list of names to create a list of tuples where the tuples first value is the length of the name and the second is the name\n",
    "\n",
    "D. Iterate over each character in a string and get only those that are nummeric\n",
    "\n",
    "E. Using only a list comprehension wrapped in set() get all possible combinations from throwing 2 dice (hint use 2 for loops in a single list comprehension). Result should look like: [2,3,4,5,6,7,8,...] or a more complex/accurate solution: [(1,1),(1,2)...] in a way that (1,2) is equal to (2,1).\n",
    "\n",
    "\n",
    "**2. Create 2 dictionary comprehensions to solve the following:**\n",
    "\n",
    "A. Iterate a list of names and create a dictionary where key is the name and value is the length of the name\n",
    "\n",
    "B. Iterate a list of numbers and create a dictionary with {key:value} being {number:squareroot_of_number}\n",
    "\n",
    "**3. Extra assignment (This one goes beyond what is covered in the course notebooks. So only do it if you want an extra challenge).**\n",
    "\n",
    "Progammatically using loops create a small program to produce a dictionary with all the 2 dice throw combinations as keys (eg: 2,3,4...etc) and their likelyhood in percent as values"
   ]
  },
  {
   "cell_type": "code",
   "execution_count": 19,
   "metadata": {},
   "outputs": [
    {
     "name": "stdout",
     "output_type": "stream",
     "text": [
      "The Original List: ['Mads', 'Jens', 'Hans', 'Hennig', 'Marcus', 'Isabella']\n",
      "Names starting with H: ['Hans', 'Hennig']\n"
     ]
    }
   ],
   "source": [
    "#1 A\n",
    "names = list([\"Mads\", \"Jens\", \"Hans\", \"Hennig\", \"Marcus\", \"Isabella\"])\n",
    "\n",
    "check = 'H'\n",
    "\n",
    "print(\"The Original List: \" + str(names))\n",
    "\n",
    "res = [i for i in names if i.lower().startswith(check.lower())]\n",
    "\n",
    "print(\"Names starting with H: \" + str(res))"
   ]
  },
  {
   "cell_type": "code",
   "execution_count": 7,
   "metadata": {},
   "outputs": [
    {
     "name": "stdout",
     "output_type": "stream",
     "text": [
      "[0, 1, 8, 27, 64, 125, 216, 343, 512, 729, 1000, 1331, 1728, 2197, 2744, 3375, 4096, 4913, 5832, 6859, 8000, 9261, 10648, 12167, 13824, 15625, 17576, 19683, 21952, 24389, 27000, 29791, 32768, 35937, 39304, 42875, 46656, 50653, 54872, 59319, 64000, 68921, 74088, 79507, 85184, 91125, 97336, 103823, 110592, 117649, 125000, 132651, 140608, 148877, 157464, 166375, 175616, 185193, 195112, 205379, 216000, 226981, 238328, 250047, 262144, 274625, 287496, 300763, 314432, 328509, 343000, 357911, 373248, 389017, 405224, 421875, 438976, 456533, 474552, 493039, 512000, 531441, 551368, 571787, 592704, 614125, 636056, 658503, 681472, 704969, 729000, 753571, 778688, 804357, 830584, 857375, 884736, 912673, 941192, 970299, 1000000]\n"
     ]
    }
   ],
   "source": [
    "#1 B\n",
    "new_list = [element**3 for element in range(101)]\n",
    "print(new_list)"
   ]
  },
  {
   "cell_type": "code",
   "execution_count": 20,
   "metadata": {},
   "outputs": [
    {
     "name": "stdout",
     "output_type": "stream",
     "text": [
      "Length of the name and name: [(4, 'Mads'), (4, 'Jens'), (4, 'Hans'), (6, 'Hennig'), (6, 'Marcus'), (8, 'Isabella')]\n"
     ]
    }
   ],
   "source": [
    "#1 C\n",
    "names = list([\"Mads\", \"Jens\", \"Hans\", \"Hennig\", \"Marcus\", \"Isabella\"])\n",
    "\n",
    "res = [(len(name), name) for name in names]\n",
    "print(\"Length of the name and name: \" + str(res))"
   ]
  },
  {
   "cell_type": "code",
   "execution_count": 25,
   "metadata": {},
   "outputs": [
    {
     "name": "stdout",
     "output_type": "stream",
     "text": [
      "Getting only the numeric characters: 897897892\n"
     ]
    }
   ],
   "source": [
    "#1 D\n",
    "name_string = \"as89d7a89sd7hgf892\"\n",
    "res = ''.join(i for i in name_string if i.isdigit())\n",
    "print(\"Getting only the numeric characters: \" + res)"
   ]
  },
  {
   "cell_type": "code",
   "execution_count": 24,
   "metadata": {},
   "outputs": [
    {
     "name": "stdout",
     "output_type": "stream",
     "text": [
      "{(1, 3), (6, 6), (5, 6), (2, 1), (6, 2), (1, 6), (5, 1), (2, 5), (1, 2), (3, 3), (5, 5), (4, 4), (6, 3), (1, 5), (3, 6), (2, 2), (4, 1), (1, 1), (6, 4), (3, 2), (2, 6), (5, 4), (4, 5), (5, 2), (1, 4), (2, 3), (4, 2), (6, 5), (3, 5), (5, 3), (4, 6), (6, 1), (3, 1), (4, 3), (3, 4), (2, 4)}\n"
     ]
    }
   ],
   "source": [
    "#1 E\n",
    "res = set([(dice1, dice2) for dice1 in range(1,7) for dice2 in range(1,7)])\n",
    "print(res)"
   ]
  },
  {
   "cell_type": "code",
   "execution_count": 13,
   "metadata": {},
   "outputs": [],
   "source": [
    "#2 A\n",
    "names = list([\"Mads\", \"Jens\", \"Hans\", \"Hennig\", \"Marcus\", \"Isabella\"])\n",
    "\n",
    "res = []"
   ]
  },
  {
   "cell_type": "code",
   "execution_count": null,
   "metadata": {},
   "outputs": [],
   "source": []
  }
 ],
 "metadata": {
  "kernelspec": {
   "display_name": "Python 3",
   "language": "python",
   "name": "python3"
  },
  "language_info": {
   "codemirror_mode": {
    "name": "ipython",
    "version": 3
   },
   "file_extension": ".py",
   "mimetype": "text/x-python",
   "name": "python",
   "nbconvert_exporter": "python",
   "pygments_lexer": "ipython3",
   "version": "3.7.6"
  }
 },
 "nbformat": 4,
 "nbformat_minor": 4
}
