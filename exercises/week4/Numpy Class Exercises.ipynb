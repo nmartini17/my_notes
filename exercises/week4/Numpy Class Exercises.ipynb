{
 "cells": [
  {
   "cell_type": "markdown",
   "metadata": {},
   "source": [
    "### Class exercise: table\n",
    "![](http://127.0.0.1:8888/files/images/numpy_slice_ex.png)\n",
    "- on the above image find the 5 different slicings using only the array slicing notation"
   ]
  },
  {
   "cell_type": "code",
   "execution_count": 8,
   "metadata": {},
   "outputs": [
    {
     "name": "stdout",
     "output_type": "stream",
     "text": [
      "red: [11 12 13] \n",
      "blue: [14 24] \n",
      "green:\n",
      " [12 17 22] \n",
      "light_blue: [[11 13]\n",
      " [16 18]\n",
      " [21 23]\n",
      " [26 28]] \n",
      "yellow: 10\n"
     ]
    }
   ],
   "source": [
    "import numpy as np\n",
    "a = np.arange(10, 30).reshape(4, 5)\n",
    "\n",
    "red = a[0, 1:4]  \n",
    "blue = a[0::2, 4]  \n",
    "light_blue  = a[:, 1::2] \n",
    "green = a[0:3, 2]\n",
    "yellow = a[0,0]\n",
    "\n",
    "print('red:',red,'\\nblue:',blue,'\\ngreen:\\n',green,'\\nlight_blue:',light_blue,'\\nyellow:',yellow)"
   ]
  },
  {
   "cell_type": "markdown",
   "metadata": {},
   "source": [
    "## 3D\n",
    "#### reshape can be done with multiple dimensions. Here is an example with 3d  \n",
    "`a = np.arange(0, 27).reshape((3, 3, 3))`  \n",
    "![](http://127.0.0.1:8888/notebooks/images/cube.png)\n",
    "\n",
    "### Class exercise: cube\n",
    "1. Slice out [12 13 14] from the above cube using only one slice. e.g: a[:,:,:]\n",
    "2. Slice out [3 12 21].\n",
    "3. Slice out all y-values where x is 2 and z is 0."
   ]
  },
  {
   "cell_type": "code",
   "execution_count": 15,
   "metadata": {},
   "outputs": [
    {
     "name": "stdout",
     "output_type": "stream",
     "text": [
      "Slice out [12 13 14] : \n",
      " [12 13 14] \n",
      "---------\n",
      "Slice out [3 12 21]: \n",
      " [ 3 12 21] \n",
      "---------\n",
      "Slice out all y-values where x is 2 and z is 0: \n",
      " [2 5 8] \n",
      "---------\n"
     ]
    }
   ],
   "source": [
    "a = np.arange(0, 27).reshape((3, 3, 3)) # = (z, y, x)\n",
    "#print('whole cube: \\n',a, '\\n---------------')\n",
    "\n",
    "print('Slice out [12 13 14] : \\n', a[1,1,:],'\\n---------')\n",
    "print('Slice out [3 12 21]: \\n',a[:,1,0],'\\n---------')\n",
    "print('Slice out all y-values where x is 2 and z is 0: \\n',a[0,:,2],'\\n---------')"
   ]
  },
  {
   "cell_type": "markdown",
   "metadata": {},
   "source": [
    "### Class exercise: masking\n",
    "- For the dataset: `data = np.arange(1,101).reshape(10,10)`\n",
    "  - apply a mask that will return only the even numbers\n",
    "  - using `np.where()` return only numbers that ends with 6\n"
   ]
  },
  {
   "cell_type": "code",
   "execution_count": 8,
   "metadata": {},
   "outputs": [
    {
     "name": "stdout",
     "output_type": "stream",
     "text": [
      "[  2   4   6   8  10  12  14  16  18  20  22  24  26  28  30  32  34  36\n",
      "  38  40  42  44  46  48  50  52  54  56  58  60  62  64  66  68  70  72\n",
      "  74  76  78  80  82  84  86  88  90  92  94  96  98 100]\n",
      "[ 6 16 26 36 46 56 66 76 86 96]\n"
     ]
    }
   ],
   "source": [
    "import numpy as np\n",
    "data = np.arange(1,101).reshape(10,10)\n",
    "\n",
    "# Mask to return only even numbers\n",
    "datab = data[data%2==0]\n",
    "print(datab)\n",
    "\n",
    "#Return only numbers that end with 6\n",
    "datac = data[data%10 == 6]\n",
    "print(datac)\n"
   ]
  },
  {
   "cell_type": "markdown",
   "metadata": {},
   "source": [
    "## Exercise numpy and csv\n",
    "\n",
    "1. load the csv file: befkbhalderstatkode.csv into a numpy ndarray\n",
    "2. How many german children of 0 years were there in Copenhagen in 2015?\n",
    "3. create a function that can take any combination of the 4 parameters:AAR,BYDEL,ALDER,STATKODE and return population data\n",
    "4. create a new function like previous so that it can sum values for all ages if age is not provided to the function\n",
    "5. further add functionality to sum values if citizenship or area was not provided to function.\n",
    "6. create a new function that can also give average values for each year if year whas not provided.\n",
    "7. create a function, that given year and nationality can return which area had the most of these nationals by that year. Test it by finding out which area had the most Moroccan people in both 1992 and 2015\n",
    "8. Find the Area(s) where fewest foreingers lived in Copenhagen in 1992 and 2015 respectively\n",
    "9. Find out what age most French people have in 2015"
   ]
  },
  {
   "cell_type": "code",
   "execution_count": 16,
   "metadata": {},
   "outputs": [
    {
     "name": "stdout",
     "output_type": "stream",
     "text": [
      "['AAR,BYDEL,ALDER,STATKODE,PERSONER\\n' '2015,1,0,5100,614\\n'\n",
      " '2015,1,0,5104,2\\n' ... '1992,99,89,5100,1\\n' '1992,99,90,5180,1\\n'\n",
      " '1992,99,93,5100,1\\n']\n"
     ]
    }
   ],
   "source": [
    "with open(\"../../../data/befkbhalderstatkode.csv\") as f:\n",
    "    data = f.readlines()\n",
    "    \n",
    "#lmaooo\n",
    "    \n",
    "    "
   ]
  }
 ],
 "metadata": {
  "kernelspec": {
   "display_name": "Python 3",
   "language": "python",
   "name": "python3"
  },
  "language_info": {
   "codemirror_mode": {
    "name": "ipython",
    "version": 3
   },
   "file_extension": ".py",
   "mimetype": "text/x-python",
   "name": "python",
   "nbconvert_exporter": "python",
   "pygments_lexer": "ipython3",
   "version": "3.7.6"
  }
 },
 "nbformat": 4,
 "nbformat_minor": 4
}
