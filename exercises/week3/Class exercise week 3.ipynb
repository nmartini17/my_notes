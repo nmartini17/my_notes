{
 "cells": [
  {
   "cell_type": "markdown",
   "metadata": {},
   "source": [
    "# Exercises\n",
    "\n",
    "  1. Create a Python module, which consists of a class TextContainer. The class must have a constructor which allow objects to be initialized with a text ala: `tc = TextContainer(my_text)`. The class must implement the following methods for computing statistics on texts.\n",
    "    * Counting the amount of words used in a text.\n",
    "    * Counting the amount of chars used in a text.\n",
    "    * Counting the amount of letters, where letters are all ASCII letter characters, see \n",
    "    ```python\n",
    "    import string\n",
    "    string.ascii_letters  # returns 'abcdefghijklmnopqrstuvwxyzABCDEFGHIJKLMNOPQRSTUVWXYZ'\n",
    "    ```\n",
    "    * Remove all punctuation characters, see\n",
    "    ```python\n",
    "    import string\n",
    "    string.punctuation  # returns '!\"#$%&\\'()*+,-./:;<=>?@[\\\\]^_`{|}~'\n",
    "    ```"
   ]
  },
  {
   "cell_type": "code",
   "execution_count": 64,
   "metadata": {},
   "outputs": [
    {
     "name": "stdout",
     "output_type": "stream",
     "text": [
      "3\n",
      "17\n",
      "9\n",
      "['!', '!', '!', '!', '!', '.']\n",
      "Hej med dig\n"
     ]
    }
   ],
   "source": [
    "#1\n",
    "import string\n",
    "class TextContainer():\n",
    "    \n",
    "    def __init__(self, text):\n",
    "        self.text = text\n",
    "        \n",
    "    def wordCount(self):\n",
    "        print(len(self.text.split()))\n",
    "        \n",
    "    def charCount(self):\n",
    "        print(len(self.text))\n",
    "        \n",
    "    def ASCIICount(self):\n",
    "        print(len([letter for letter in self.text if letter in string.ascii_letters]))\n",
    "        \n",
    "    def removePunctuation(self):\n",
    "        print([letter for letter in self.text if letter in string.punctuation])\n",
    "    \n",
    "    def remPunc(self):\n",
    "        tomStreng = \"\"\n",
    "        for letter in self.text:\n",
    "            if letter not in string.punctuation:\n",
    "                tomStreng += letter\n",
    "        print(tomStreng)\n",
    "        \n",
    "tc = TextContainer(\"Hej med dig!!!!!.\")\n",
    "tc.wordCount()\n",
    "tc.charCount()\n",
    "tc.ASCIICount()\n",
    "tc.removePunctuation()\n",
    "tc.remPunc()"
   ]
  }
 ],
 "metadata": {
  "kernelspec": {
   "display_name": "Python 3",
   "language": "python",
   "name": "python3"
  },
  "language_info": {
   "codemirror_mode": {
    "name": "ipython",
    "version": 3
   },
   "file_extension": ".py",
   "mimetype": "text/x-python",
   "name": "python",
   "nbconvert_exporter": "python",
   "pygments_lexer": "ipython3",
   "version": "3.7.6"
  }
 },
 "nbformat": 4,
 "nbformat_minor": 4
}
