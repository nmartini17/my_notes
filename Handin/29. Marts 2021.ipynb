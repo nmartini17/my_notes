{
 "cells": [
  {
   "cell_type": "markdown",
   "metadata": {},
   "source": [
    "Datasæt: https://www.opendata.dk/city-of-copenhagen/monumenter\n",
    "\n",
    "CSV: https://wfs-kbhkort.kk.dk/k101/ows?service=WFS&version=1.0.0&request=GetFeature&typeName=k101:monumenter&outputFormat=csv&SRSNAME=EPSG:4326\n",
    "\n",
    "1. Hvor mange monumenter er der i København?\n",
    "\n",
    "2. Hvor mange monumenter bliver vedligeholdt? Dvs. graffitirenhold = ja\n",
    "\n",
    "3. Lav en funktion som kan finde koordinaterne på et monument baseret på monumentets id eller navn?\n",
    "\tF.eks:\n",
    "\t\tdef monumentById(monumentId):\n",
    "\t\t\treturn coordinates\n",
    "\t\n",
    "    3.a Vis monument som bliver returneret i metoden, på et kort over københavn ved brug af plotting. (Se afsnittet om 'Folium and Bokeh' under notebooks/03-3 Plotting)\n",
    "    \n",
    "\n",
    "4. Find navnet på monumentet med x og y koordinaterne eller længde- og breddegraderne?\n",
    "\t\n",
    "\tx = 724407.424966\n",
    "\ty = 6175719.798486\n",
    "\t\n",
    "\tMULTIPOINT ((12.555485308174104 55.69383926601615))\n",
    "\n",
    "5. Lav en metode der optegner alle monumenterne på kortet ved brug af plotting.\n",
    "\n",
    "6. Gør kortet interaktiv så navnet på monumenterne vises når man trykker på et plot. (Se afsnittet om 'Interactive plots with bokeh' under notebooks/03-3 Plotting)\""
   ]
  },
  {
   "cell_type": "code",
   "execution_count": 41,
   "metadata": {},
   "outputs": [
    {
     "name": "stdout",
     "output_type": "stream",
     "text": [
      "Der er: 389 monumenter i København.\n",
      "Der er: 255 monumenter i København, som bliver vedligeholdt.\n"
     ]
    },
    {
     "ename": "NameError",
     "evalue": "name 'get_city_location' is not defined",
     "output_type": "error",
     "traceback": [
      "\u001b[0;31m---------------------------------------------------------------------------\u001b[0m",
      "\u001b[0;31mNameError\u001b[0m                                 Traceback (most recent call last)",
      "\u001b[0;32m<ipython-input-41-44c8ac1b5282>\u001b[0m in \u001b[0;36m<module>\u001b[0;34m\u001b[0m\n\u001b[1;32m     22\u001b[0m \u001b[0mm\u001b[0m \u001b[0;34m=\u001b[0m \u001b[0mfolium\u001b[0m\u001b[0;34m.\u001b[0m\u001b[0mMap\u001b[0m\u001b[0;34m(\u001b[0m\u001b[0mlocation\u001b[0m\u001b[0;34m=\u001b[0m\u001b[0;34m[\u001b[0m\u001b[0;36m55.6760968\u001b[0m\u001b[0;34m,\u001b[0m \u001b[0;36m12.5683371\u001b[0m\u001b[0;34m]\u001b[0m\u001b[0;34m,\u001b[0m \u001b[0mzoom_start\u001b[0m\u001b[0;34m=\u001b[0m\u001b[0;36m10\u001b[0m\u001b[0;34m)\u001b[0m\u001b[0;34m\u001b[0m\u001b[0;34m\u001b[0m\u001b[0m\n\u001b[1;32m     23\u001b[0m \u001b[0;34m\u001b[0m\u001b[0m\n\u001b[0;32m---> 24\u001b[0;31m \u001b[0mcph_lat\u001b[0m\u001b[0;34m,\u001b[0m \u001b[0mcph_lon\u001b[0m \u001b[0;34m=\u001b[0m \u001b[0mget_city_location\u001b[0m\u001b[0;34m(\u001b[0m\u001b[0;34m)\u001b[0m\u001b[0;34m\u001b[0m\u001b[0;34m\u001b[0m\u001b[0m\n\u001b[0m\u001b[1;32m     25\u001b[0m \u001b[0mprint\u001b[0m\u001b[0;34m(\u001b[0m\u001b[0;34mf'{cph_lat}::::{cph_lon}'\u001b[0m\u001b[0;34m)\u001b[0m\u001b[0;34m\u001b[0m\u001b[0;34m\u001b[0m\u001b[0m\n\u001b[1;32m     26\u001b[0m \u001b[0murl\u001b[0m \u001b[0;34m=\u001b[0m \u001b[0;34m'http://wfs-kbhkort.kk.dk/k101/ows?service=WFS&version=1.0.0&request=GetFeature&typeName=k101:storbyhaver&outputFormat=json&SRSNAME=EPSG:4326'\u001b[0m\u001b[0;34m\u001b[0m\u001b[0;34m\u001b[0m\u001b[0m\n",
      "\u001b[0;31mNameError\u001b[0m: name 'get_city_location' is not defined"
     ]
    }
   ],
   "source": [
    "#Lav minimum opg. 3 + 3a + 5\n",
    "\n",
    "\n",
    "#Opg. 1\n",
    "import pandas as pd\n",
    "import json\n",
    "import requests\n",
    "import folium\n",
    "import urllib\n",
    "\n",
    "df = pd.read_csv(\"https://wfs-kbhkort.kk.dk/k101/ows?service=WFS&version=1.0.0&request=GetFeature&typeName=k101:monumenter&outputFormat=csv&SRSNAME=EPSG:4326\")\n",
    "print(f\"Der er: {df.shape[0]} monumenter i København.\")\n",
    "\n",
    "#Opg. 2\n",
    "gfrh_ja = df.loc[df['graffitirenhold']=='Ja']\n",
    "print(f\"Der er: {gfrh_ja.shape[0]} monumenter i København, som bliver vedligeholdt.\")\n",
    "\n",
    "#Opg. 3\n",
    "def monumentById(monumentId):\n",
    "    \n",
    "    return coordinates\n",
    "\n",
    "#Opg. 4\n",
    "\n",
    "#Opg. 5\n",
    "def get_city_location(city='Copenhagen'):\n",
    "    \"\"\"Get the location coordinates from OpenStreetMaps\"\"\"\n",
    "    url_nomatim_api = 'https://nominatim.openstreetmap.org/search'\n",
    "    r = requests.get(url_nomatim_api, params={'format': 'json', 'city': city})\n",
    "    results = r.json()  # Potentially many matches\n",
    "    print('results: ',results)\n",
    "    location = results[0]\n",
    "    lat, lon = float(location['lat']), float(location['lon'])\n",
    "    return lat, lon\n",
    "\n",
    "\n",
    "def get_geojson(url): \n",
    "    \"\"\"\n",
    "    return the response body as json\n",
    "    GeoJSON is an open standard format designed for representing simple geographical features, along with their non-spatial attributes\n",
    "    \"\"\"\n",
    "    response = requests.get(url)\n",
    "    geo_json = response.json()\n",
    "    return geo_json\n",
    "m = folium.Map(location=[55.6760968, 12.5683371], zoom_start=10)\n",
    "\n",
    "cph_lat, cph_lon = get_city_location()\n",
    "print(f'{cph_lat}::::{cph_lon}')\n",
    "url = 'http://wfs-kbhkort.kk.dk/k101/ows?service=WFS&version=1.0.0&request=GetFeature&typeName=k101:storbyhaver&outputFormat=json&SRSNAME=EPSG:4326'\n",
    "geo_json = get_geojson(url)  # 'geometry': {'type': 'MultiPoint',\n",
    "print('\\n\\ngetjson:\\n',geo_json)\n",
    "\n",
    "map_osm = folium.Map(location=(cph_lat, cph_lon), zoom_start=10) # show the map\n",
    "folium.GeoJson(geo_json, name='geojson').add_to(map_osm) # add \n",
    "map_osm.save('./osm2.html')\n",
    "map_osm\n",
    "\n",
    "m"
   ]
  },
  {
   "cell_type": "code",
   "execution_count": null,
   "metadata": {},
   "outputs": [],
   "source": []
  }
 ],
 "metadata": {
  "kernelspec": {
   "display_name": "Python 3",
   "language": "python",
   "name": "python3"
  },
  "language_info": {
   "codemirror_mode": {
    "name": "ipython",
    "version": 3
   },
   "file_extension": ".py",
   "mimetype": "text/x-python",
   "name": "python",
   "nbconvert_exporter": "python",
   "pygments_lexer": "ipython3",
   "version": "3.7.6"
  }
 },
 "nbformat": 4,
 "nbformat_minor": 4
}
